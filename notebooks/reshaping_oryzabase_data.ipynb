{
 "cells": [
  {
   "cell_type": "markdown",
   "metadata": {},
   "source": [
    "## Reading in data available through Oryzabase (Integrated Rice Science Database)\n",
    "The purpose of this notebook is to read in and do a preliminary analysis of the data related to text descriptions and ontology term annotations that are available through Oryzabase. The data needs to be organized and also restructured into a standard format that will allow it to be easily combined with datasets from other resources. This notebook takes the following input files that were obtained from OryzaBase and produces a set of files that have standard columns that are listed and described below.\n",
    "\n",
    "### Files read\n",
    "```\n",
    "plant-data/databases/oryzabase/OryzabaseGeneListEn_20190826010113.txt\n",
    "```\n",
    "\n",
    "### Files created\n",
    "```\n",
    "plant-data/reshaped/data/oryzabase_phenotype_descriptions_and_annotations.csv\n",
    "```\n",
    "\n",
    "### Columns in the created files\n",
    "* **species**: A string indicating what species the gene is in, currently uses the 3-letter codes from the KEGG database.\n",
    "* **unique_gene_identifiers**: Pipe delimited list of gene identifers, names, models, etc which must uniquely refer to this gene.\n",
    "* **other_gene_identifiers**: Pipe delimited list of other identifers, names, aliases, synonyms for the gene, which may but do not have to uniquely refer to it.\n",
    "* **gene_models**: Pipe delimited list of gene model names that map to this gene.\n",
    "* **descriptions**: A free text field for any descriptions of phenotyes associated with this gene.\n",
    "* **annotations**: Pipe delimited list of gene ontology term identifiers.\n",
    "* **sources**: Pipe delimited list of strings that indicate where this data comes from such as database names."
   ]
  },
  {
   "cell_type": "code",
   "execution_count": 17,
   "metadata": {
    "scrolled": true
   },
   "outputs": [],
   "source": [
    "import matplotlib.pyplot as plt\n",
    "import matplotlib as mpl\n",
    "import seaborn as sns\n",
    "import sys\n",
    "import os\n",
    "import warnings\n",
    "import pandas as pd\n",
    "import numpy as np\n",
    "import itertools\n",
    "import re\n",
    "import matplotlib.pyplot as plt\n",
    "from nltk.tokenize import word_tokenize\n",
    "from nltk.tokenize import sent_tokenize\n",
    "\n",
    "sys.path.append(\"../utils\")\n",
    "from constants import NCBI_TAG, EVIDENCE_CODES\n",
    "\n",
    "sys.path.append(\"../../oats\")\n",
    "from oats.nlp.small import add_prefix_safely, get_ontology_ids, remove_punctuation, remove_enclosing_brackets\n",
    "from oats.nlp.preprocess import concatenate_texts, concatenate_with_delim, replace_delimiter\n",
    "\n",
    "OUTPUT_DIR = \"../reshaped/data\"\n",
    "mpl.rcParams[\"figure.dpi\"] = 200\n",
    "warnings.simplefilter('ignore')\n",
    "pd.set_option('display.max_rows', 500)\n",
    "pd.set_option('display.max_columns', 500)\n",
    "pd.set_option('display.width', 1000)"
   ]
  },
  {
   "cell_type": "code",
   "execution_count": 2,
   "metadata": {},
   "outputs": [],
   "source": [
    "# Columns that should be in the final reshaped files.\n",
    "reshaped_columns = [\"species\", \n",
    " \"unique_gene_identifiers\", \n",
    " \"other_gene_identifiers\", \n",
    " \"gene_models\", \n",
    " \"descriptions\", \n",
    " \"annotations\", \n",
    " \"sources\"]\n",
    "\n",
    "# Creating and testing a lambda for finding gene model strings.\n",
    "gene_model_pattern_1 = re.compile(\"grmzm.+\")\n",
    "gene_model_pattern_2 = re.compile(\"zm[0-9]+d[0-9]+\")\n",
    "is_gene_model = lambda s: bool(gene_model_pattern_1.match(s.lower() or gene_model_pattern_2.match(s.lower())))"
   ]
  },
  {
   "cell_type": "markdown",
   "metadata": {},
   "source": [
    "### Part 1: Phenotypic Text Data\n",
    "There are several columns that contain information about gene names and accessions. We need to know what type of information is in each in order to know which should be retained or parsed to form the desired cleaned dataset. We are interested in both gene names that should map to a specific accession (like cms-54257) as well as gene names that are enzyme descriptions (like Ubiquitin-Specific Protease) that could map to more than one gene in a particular species. Each type of information is valuable, but needs to be differentiated so that when comparing whether two rows are specifying the same gene, this is not confused with specifying two different genes that have the same function.\n",
    "\n",
    "The gene symbols in this dataset are typically surrounded by square brackets but not always. If a second symbol for that same gene is mentioned in the same column, the second symbol might be enclosed in parentheses. The synonynms for the gene symbols are similarly sometimes enclosed in square brackets, and are typically separated by commas in cases where more than one are mentioned in this column. Also note that an underscore is being used to represent missing data, so this has to handled so that that character is not treated as a gene name that appears many times."
   ]
  },
  {
   "cell_type": "code",
   "execution_count": 3,
   "metadata": {},
   "outputs": [
    {
     "name": "stdout",
     "output_type": "stream",
     "text": [
      "(17674, 14)\n",
      "CGSNL Gene Symbol           10041\n",
      "Gene symbol synonym(s)      15948\n",
      "CGSNL Gene Name              9845\n",
      "Gene name synonym(s)        15216\n",
      "Protein Name                 5588\n",
      "Allele                       1151\n",
      "Explanation                 13841\n",
      "Trait Class                   726\n",
      "RAP ID                      11531\n",
      "MUS ID                      11642\n",
      "Gramene ID                   1656\n",
      "Gene Ontology                7624\n",
      "Trait Ontology               2476\n",
      "Plant Ontology                797\n"
     ]
    }
   ],
   "source": [
    "filename = \"../databases/oryzabase/OryzabaseGeneListEn_20190826010113.txt\"\n",
    "usecols = [\"CGSNL Gene Symbol\", \"Gene symbol synonym(s)\", \"CGSNL Gene Name\", \"Gene name synonym(s)\", \"Protein Name\", \n",
    "           \"Allele\", \"Explanation\", \"Trait Class\", \"RAP ID\", \"MUS ID\", \"Gramene ID\", \"Gene Ontology\", \n",
    "           \"Trait Ontology\", \"Plant Ontology\"]\n",
    "df = pd.read_table(filename, usecols=usecols, sep=\"\\t\")\n",
    "df.fillna(\"\", inplace=True)\n",
    "unique_values = {col:len(pd.unique(df[col].values)) for col in df.columns}\n",
    "print(df.shape)\n",
    "for k,v in unique_values.items():\n",
    "    print(\"{:25}{:8}\".format(k,v))"
   ]
  },
  {
   "cell_type": "code",
   "execution_count": 4,
   "metadata": {},
   "outputs": [
    {
     "name": "stdout",
     "output_type": "stream",
     "text": [
      "    CGSNL Gene Symbol                  Gene symbol synonym(s)\n",
      "0         [CMS-54257]               [cms-54257]*, [cms-54257]\n",
      "1  [CMS-AK]([CMS-JP])  [cms-ak]([cms-jp]), [cms-jp], [cms-ak]\n",
      "2           [CMS-ARC]   [cms-ARC]*, [cms-ARC] [mt], [cms-ARC]\n",
      "3            [CMS-BO]                                [cms-bo]\n",
      "4            [CMS-CW]                                [cms-CW]\n",
      "      CGSNL Gene Symbol          Gene symbol synonym(s)\n",
      "15339            P72-F7                                \n",
      "11477             BASHO                           Basho\n",
      "5248                  -                             OsL\n",
      "9114                  _                                \n",
      "971                DIM*  OsDIM*, OsDIM, DIM, dim, OSDIM\n"
     ]
    }
   ],
   "source": [
    "print(df[[\"CGSNL Gene Symbol\", \"Gene symbol synonym(s)\"]].head(5))\n",
    "print(df[[\"CGSNL Gene Symbol\", \"Gene symbol synonym(s)\"]].sample(5))"
   ]
  },
  {
   "cell_type": "markdown",
   "metadata": {},
   "source": [
    "The values in the gene name synonym(s) column can be comma delimited lists if more than one synonym for the gene name was known. Sometimes quotes are used. Empty strings and possibly underscores can be used to denote missing information."
   ]
  },
  {
   "cell_type": "code",
   "execution_count": 5,
   "metadata": {},
   "outputs": [
    {
     "name": "stdout",
     "output_type": "stream",
     "text": [
      "                    CGSNL Gene Name\n",
      "0  CYTOPLASMIC MALE STERILITY 54257\n",
      "1     CYTOPLASMIC MALE STERILITY AK\n",
      "2    CYTOPLASMIC MALE STERILITY ARC\n",
      "3     CYTOPLASMIC MALE STERILITY BO\n",
      "4     CYTOPLASMIC MALE STERILITY CW\n",
      "                    CGSNL Gene Name\n",
      "4151   ORIGIN RECOGNITION COMPLEX 5\n",
      "10553                             _\n",
      "9778                           AWN1\n",
      "2378                HOMEOBOX GENE 6\n",
      "10488                             _\n"
     ]
    }
   ],
   "source": [
    "print(df[[\"CGSNL Gene Name\"]].head(5))\n",
    "print(df[[\"CGSNL Gene Name\"]].sample(5))"
   ]
  },
  {
   "cell_type": "markdown",
   "metadata": {},
   "source": [
    "The gene name column has strings representing the full name of each gene rather than just the symbol. Note that an underscore is also being used to denote missing values in this column as well."
   ]
  },
  {
   "cell_type": "code",
   "execution_count": 6,
   "metadata": {},
   "outputs": [
    {
     "name": "stdout",
     "output_type": "stream",
     "text": [
      "                                Gene name synonym(s)\n",
      "0  Cytoplasmic mutant induced by somaclonal varia...\n",
      "1            Akebono' cytoplasm, 'Akebono' cytoplasm\n",
      "2     ARC13829-16 cytoplasm, `ARC13829-26' cytoplasm\n",
      "3  Chinsurah boro II' cytoplasm, `Chinsurah boro ...\n",
      "4                        Chinese wild rice cytoplasm\n",
      "                                    Gene name synonym(s)\n",
      "263    Pyricularia oryzae resistance 3, Magnaporthe g...\n",
      "1370                              seed dormancy (QTL)-11\n",
      "16302                                                   \n",
      "16081  glutelin precursor accumulation4, glutelin pre...\n",
      "10290                     importin beta, importin beta 1\n"
     ]
    }
   ],
   "source": [
    "print(df[[\"Gene name synonym(s)\"]].head(5))\n",
    "print(df[[\"Gene name synonym(s)\"]].sample(5))"
   ]
  },
  {
   "cell_type": "markdown",
   "metadata": {},
   "source": [
    "The values in the gene name synonym(s) column can be comma delimited lists if more than one synonym for the gene name was known. Sometimes quotes are used. Empty strings and possibly underscores can be used to denote missing information."
   ]
  },
  {
   "cell_type": "code",
   "execution_count": 7,
   "metadata": {},
   "outputs": [
    {
     "name": "stdout",
     "output_type": "stream",
     "text": [
      "                               Protein Name Allele\n",
      "10410                                             \n",
      "11145                                             \n",
      "13484  RECEPTOR-LIKE CYTOPLASMIC KINASE 105       \n",
      "12517                                             \n",
      "13709  RECEPTOR-LIKE CYTOPLASMIC KINASE 368       \n"
     ]
    }
   ],
   "source": [
    "print(df[[\"Protein Name\",\"Allele\"]].sample(5))"
   ]
  },
  {
   "cell_type": "markdown",
   "metadata": {},
   "source": [
    "Both the protein name and allele columns are sparse within the dataset. Either can be a single value or a comma delimited list of values. These may not need to be retained for finding reference to genes in other resources because we already have more standardized representations of the genes in other columns."
   ]
  },
  {
   "cell_type": "code",
   "execution_count": 8,
   "metadata": {},
   "outputs": [
    {
     "name": "stdout",
     "output_type": "stream",
     "text": [
      "             RAP ID                              MUS ID\n",
      "16580  Os03g0760700                    LOC_Os03g55280.1\n",
      "11784  Os05g0570500                    LOC_Os05g49530.1\n",
      "10439                                                  \n",
      "7315   Os04g0623500  LOC_Os04g53210.3, LOC_Os04g53210.1\n",
      "1302                                                   \n"
     ]
    }
   ],
   "source": [
    "print(df[[\"RAP ID\",\"MUS ID\"]].sample(5))"
   ]
  },
  {
   "cell_type": "markdown",
   "metadata": {},
   "source": [
    "Both the RAP ID and the MUS ID can columns can contain multiple values for a given gene which are included as members of a comma delimited list. These values can also be missing using the same scheme for missing information as in the rest of the dataset."
   ]
  },
  {
   "cell_type": "markdown",
   "metadata": {},
   "source": [
    "The following functions were created based on the needs following how the gene symbols, names, synonyms, and accessions are previously described in this dataset. These are a not guaranteed to be a perfectly accurate method of parsing in the information in this dataset but they are meant to approximate what is required based on going through the dataset by hand. The methods are meant to be applied only to specific columns within the dataset, and to make the code that later cleans the columns more readable by compressing multiple cleaning steps into a single function. Some of these rely on other very specific functions that are within the text preprocessing module and not shown here."
   ]
  },
  {
   "cell_type": "code",
   "execution_count": 9,
   "metadata": {},
   "outputs": [],
   "source": [
    "def handle_synonym_in_parentheses(text, min_length):\n",
    "    # Looks at a string that is suspected to be in a format like \"name (othername)\". If\n",
    "    # that is the case then a list of strings is returned that looks like [name, othername].\n",
    "    # This is useful when a column is specifying something like a gene name but a synonym\n",
    "    # might be mentioned in the same column in parentheses, so the whole string in that \n",
    "    # column is not useful for searching against as whole. Does not consider text in\n",
    "    # parentheses shorter than min_length to be a real synonym, but rather part of the \n",
    "    # name, such as gene_name(t) for example. \n",
    "    names = []\n",
    "    pattern = r\"\\(.*?\\)\"\n",
    "    results = re.findall(pattern, text)\n",
    "    for result in results:\n",
    "        enclosed_string = result[1:-1]\n",
    "        if len(enclosed_string)>=min_length:\n",
    "            text = text.replace(result, \"\")\n",
    "            names.append(enclosed_string)\n",
    "    names.append(text)\n",
    "    names = [name.strip() for name in names]\n",
    "    return(names)\n",
    "\n",
    "\n",
    "def clean_oryzabase_symbol(string):\n",
    "    # Should be applied to the gene symbol column in the dataset.\n",
    "    # Returns a single string representing a bar delimited list of gene symbols.\n",
    "    string = string.replace(\"*\",\"\")\n",
    "    names = handle_synonym_in_parentheses(string, min_length=4)\n",
    "    names = [remove_enclosing_brackets(name) for name in names]\n",
    "    names = [name for name in names if len(name)>=2] # Retain only names that are atleast two characters.\n",
    "    names_string = concatenate_with_delim(\"|\", names)\n",
    "    return(names_string)\n",
    "\n",
    "def clean_oryzabase_symbol_synonyms(string):\n",
    "    # Should be applied to the gene symbol synonym(s) column in the dataset.\n",
    "    # Returns a single string representing a bar delimited list of gene symbols.\n",
    "    string = string.replace(\"*\",\"\")\n",
    "    names = string.split(\",\")\n",
    "    names = [name.strip() for name in names]\n",
    "    names = [remove_enclosing_brackets(name) for name in names]\n",
    "    names_string = concatenate_with_delim(\"|\", names)\n",
    "    return(names_string)"
   ]
  },
  {
   "cell_type": "markdown",
   "metadata": {},
   "source": [
    "### Part 2: Ontology Term Annotations\n",
    "Multiple columns within the dataset specify ontology term annotations that have been applied to the geen mentioned on that particular line. Ontology term annotations are separated into different columns based on which ontology the terms belong to, and both the term ID of each annotation and the accompanying label for that term and explicitly given. Columns for terms from the Gene Ontolgoy (GO), Plant Ontology (PO), and Plant Trait Ontology (TO) are all included. There is no information about what evidence codes these annotations are associated with in this dataset."
   ]
  },
  {
   "cell_type": "code",
   "execution_count": 10,
   "metadata": {},
   "outputs": [
    {
     "name": "stdout",
     "output_type": "stream",
     "text": [
      "                                       Gene Ontology\n",
      "0  GO:0000001 - mitochondrion inheritance, GO:000...\n",
      "1  GO:0000001 - mitochondrion inheritance, GO:000...\n",
      "2  GO:0007275 - multicellular organismal development\n",
      "3  GO:0007275 - multicellular organismal developm...\n",
      "4  GO:0007275 - multicellular organismal development\n",
      "                                      Plant Ontology\n",
      "0                               PO:0009066 - anther \n",
      "1                               PO:0009066 - anther \n",
      "2  PO:0009082 - spikelet floret , PO:0020048 - mi...\n",
      "3  PO:0009082 - spikelet floret , PO:0020048 - mi...\n",
      "4  PO:0009082 - spikelet floret , PO:0020048 - mi...\n",
      "                                      Trait Ontology\n",
      "0  TO:0000232 - cytoplasmic male sterility (sensu...\n",
      "1  TO:0000232 - cytoplasmic male sterility (sensu...\n",
      "2  TO:0000232 - cytoplasmic male sterility (sensu...\n",
      "3  TO:0000232 - cytoplasmic male sterility (sensu...\n",
      "4  TO:0000232 - cytoplasmic male sterility (sensu...\n"
     ]
    }
   ],
   "source": [
    "print(df[[\"Gene Ontology\"]].head(5))\n",
    "print(df[[\"Plant Ontology\"]].head(5))\n",
    "print(df[[\"Trait Ontology\"]].head(5))"
   ]
  },
  {
   "cell_type": "markdown",
   "metadata": {},
   "source": [
    "Both the term IDs and labels for each annotation are given. Multiple annotations from the same ontology for a given line are separated by commas. We want to parse out just the gene ontology IDs for the cleaned dataset so that they can be referenced later, all the other information is not needed. There is a function to the return a list of gene IDs present in a longer string of text that is in the preprocessing module."
   ]
  },
  {
   "cell_type": "markdown",
   "metadata": {},
   "source": [
    "### Part 3: Handling other text description and keyword information in this data\n",
    "This dataset does not contain any columns that consistly contain a natural language description of a phenotype associated with a given gene. But some text-based information is still present. The trait class column contains a value from a limited set of keyword descriptors for the trait a particular gene is associated with. The size of the vocabulary used is obtained here. Also see the specific description of this keyword vocabulary here (https://shigen.nig.ac.jp/rice/oryzabase/traitclass/). The explaination column also occasionally contains text information about a corresponding phenotype."
   ]
  },
  {
   "cell_type": "code",
   "execution_count": 11,
   "metadata": {},
   "outputs": [
    {
     "name": "stdout",
     "output_type": "stream",
     "text": [
      "  4121                      \n",
      "  3621   Biochemical character\n",
      "  2566   Other              \n",
      "   875   Tolerance and resistance - Stress tolerance\n",
      "   862   Biochemical character,  Tolerance and resistance - Stress tolerance\n",
      "   527   Tolerance and resistance - Disease resistance\n",
      "   293   Reproductive organ - Spikelet, flower, glume, awn\n",
      "   244   Biochemical character,  Tolerance and resistance - Disease resistance\n",
      "   222   Character as QTL - Yield and productivity\n",
      "   204   Tolerance and resistance - Stress tolerance,  Other\n"
     ]
    }
   ],
   "source": [
    "# Get a list sorted by number of occurences for each trait class.\n",
    "description_counts = df[\"Trait Class\"].value_counts().to_dict()\n",
    "sorted_tuples = sorted(description_counts.items(), key = lambda x: x[1], reverse=True)\n",
    "for t in sorted_tuples[0:10]:\n",
    "    print(\"{:6}  {:20}\".format(t[1],t[0][:70]))"
   ]
  },
  {
   "cell_type": "markdown",
   "metadata": {},
   "source": [
    "The most common value in the trait class column is whitespace or an empty string indicating missing data. Another very common value though is 'Other' which has 2,566 occurences out of the 17,674 total instances. This needs to be handled if using this information as text descriptions because this contains no semantics relevant to the phenotype (two phenotypes with trait classes of 'Other' should not be considered similar)."
   ]
  },
  {
   "cell_type": "code",
   "execution_count": 12,
   "metadata": {},
   "outputs": [
    {
     "name": "stdout",
     "output_type": "stream",
     "text": [
      "                                             Explanation\n",
      "3174                 AC108503, AC121361. LOC_Os05g39090.\n",
      "4632                             Q69NP0. LOC_Os06g10340.\n",
      "2131   This QTL controls total dry weight at 30 days ...\n",
      "8025                                                    \n",
      "12524  class II PUB protein (U-box + ARM/HEAT). LOC_O...\n",
      "1616   This QTL controls fertility percentage, being ...\n",
      "257    Resistant to rice blast disease. Varieties 'Is...\n",
      "1320   This QTL controls penetrated root thichness in...\n",
      "8452                                                    \n",
      "12577  class V PUB protein (U-box only). LOC_Os06g285...\n",
      "4744                                        Phytocyanin.\n",
      "4917                           EU368720. LOC_Os07g32450.\n",
      "4554   LOC_Os10g38730. Os10g0530700 (in Rap1 (build3)...\n",
      "8655                                           AB033545.\n",
      "16709                                    LOC_Os07g32810.\n",
      "11734       LOC_Os04g40800. Os_F0093 in Hua et al. 2011.\n",
      "12539  class III PUB protein (U-box + GKL-box). LOC_O...\n",
      "1902   This QTL derived from Oryza longistaminata, co...\n",
      "14746  LOC_Os02g17060. Subtilisin Family (Peptidase_S...\n",
      "9961                     JmjC domain containing protein.\n",
      "3914   Pi47 was identified in XZ3150 (indica rice cul...\n",
      "9655    D13104 (a transferred chloroplast DNA sequence).\n",
      "8362                                   LOC_Os01g58660.1.\n",
      "15354                                                   \n",
      "12768  JN861109, JN861110 (Indica Group chloroplast g...\n",
      "9478                                           AB099525.\n",
      "4798   Histidine phosphotransfer protein, His-contain...\n",
      "3893   Alternative splicing. DNA MTase. BK001405, AP0...\n",
      "14991                                    LOC_Os01g28600.\n",
      "13321                                    LOC_Os06g05870.\n"
     ]
    }
   ],
   "source": [
    "print(df[[\"Explanation\"]].sample(30))"
   ]
  },
  {
   "cell_type": "markdown",
   "metadata": {},
   "source": [
    "The explanation column holds information potentially about the phenotype, but also sometimes contains redundant information about the gene names or identifiers and sometimes the ontology term annotations as well. Sometimes methods are mentioned as well. Some of this could be handled with parsing to remove the redundant information that already appears somewhere else in a particular column for this line, but this should be considered irregular text annotations or descriptions for the purposes of downstream analyses. The following cell contains a preliminary attempt at a function that cleans values in this column by removing some redundant information from other columns."
   ]
  },
  {
   "cell_type": "code",
   "execution_count": 13,
   "metadata": {},
   "outputs": [],
   "source": [
    "def clean_oryzabase_explainations(string):\n",
    "    # Should be applied to the explaniation column in the dataset.\n",
    "    # Returns a version of the value in that column without some of the redundant information.\n",
    "    ontology_ids = get_ontology_ids(string)\n",
    "    for ontology_id in ontology_ids:\n",
    "        string = string.replace(ontology_id,\"\")\n",
    "        string = remove_punctuation(string)\n",
    "    return(string)"
   ]
  },
  {
   "cell_type": "code",
   "execution_count": 14,
   "metadata": {},
   "outputs": [
    {
     "name": "stdout",
     "output_type": "stream",
     "text": [
      "  species                                         gene_names\n",
      "0     osa  CMS-54257|cms-54257|CYTOPLASMIC MALE STERILITY...\n",
      "1     osa  CMS-JP|CMS-AK|[cms-ak]([cms-jp])|cms-jp|cms-ak...\n",
      "2     osa  CMS-ARC|cms-ARC|cms-ARC] [mt|CYTOPLASMIC MALE ...\n",
      "3     osa  CMS-BO|cms-bo|CYTOPLASMIC MALE STERILITY BO|Ch...\n",
      "4     osa  CMS-CW|cms-CW|CYTOPLASMIC MALE STERILITY CW|Ch...\n",
      "5     osa  CMS-GAM|cms-GAM|CYTOPLASMIC MALE STERILITY GAM...\n",
      "6     osa  CMS-HL|cms-HL|CYTOPLASMIC MALE STERILITY HL|HL...\n",
      "7     osa  CMS-IR66707A|cms-IR66707A|CYTOPLASMIC MALE STE...\n",
      "8     osa  CMS-KALINGA-I|cms-Kalinga-I|CYTOPLASMIC MALE S...\n",
      "9     osa  CMS-KHIABORO|cms-Khiaboro|CYTOPLASMIC MALE STE...\n",
      "      species                                         gene_names\n",
      "8187      osa  Os02g0122700|LOC_Os02g03030.1|OsSET7|SDG730|SE...\n",
      "7437      osa  MIR169F|miR169f|osa-miR169f|osa-MIR169f|osa-mi...\n",
      "4464      osa  Os07g0180700|LOC_Os07g08300.5, LOC_Os07g08300....\n",
      "3791      osa  Os02g0820500|LOC_Os02g57490.1|DH1|OsDH1|OsLBD2...\n",
      "12442     osa  Os03g0713400|LOC_Os03g50540.1|NADH dehydrogena...\n",
      "3402      osa  Os06g0228200|LOC_Os06g12310.1|LSI6|Lsi6|OsNIP2...\n",
      "11640     osa  Os02g0826675/Os02g0826700|OsFbox125|Os_F0403|F...\n",
      "10344     osa  MAR13|Osmar13|TC1/MARINER TRANSPOSABLE ELEMENT...\n",
      "5911      osa  Os05g0506600|LOC_Os05g43100.1|GELP70|OsGELP70|...\n",
      "16493     osa  Os01g0278900|LOC_Os01g17150.1|RPL5|ribosomal p...\n"
     ]
    }
   ],
   "source": [
    "# Restructuring and combining columns that have gene name information.\n",
    "combine_columns = lambda row, columns: concatenate_with_delim(\"|\", [row[column] for column in columns])\n",
    "df[\"CGSNL Gene Symbol\"] = df[\"CGSNL Gene Symbol\"].apply(clean_oryzabase_symbol)\n",
    "df[\"Gene symbol synonym(s)\"] = df[\"Gene symbol synonym(s)\"].apply(clean_oryzabase_symbol_synonyms)\n",
    "df[\"CGSNL Gene Name\"] = df[\"CGSNL Gene Name\"].apply(lambda x: x.replace(\"_\",\"\").strip())\n",
    "df[\"Gene name synonym(s)\"] = df[\"Gene name synonym(s)\"].apply(lambda x: replace_delimiter(text=x, old_delim=\",\", new_delim=\"|\"))\n",
    "df[\"gene_names\"] = df.apply(lambda x: combine_columns(x, [\"RAP ID\",\"MUS ID\",\"CGSNL Gene Symbol\", \"Gene symbol synonym(s)\", \"CGSNL Gene Name\", \"Gene name synonym(s)\"]), axis=1)\n",
    "\n",
    "# Restructuring and combining columns that have ontology term annotations.\n",
    "df[\"Gene Ontology\"] = df[\"Gene Ontology\"].apply(lambda x: concatenate_with_delim(\"|\", get_ontology_ids(x)))\n",
    "df[\"Trait Ontology\"] = df[\"Trait Ontology\"].apply(lambda x: concatenate_with_delim(\"|\", get_ontology_ids(x))) \n",
    "df[\"Plant Ontology\"] = df[\"Plant Ontology\"].apply(lambda x: concatenate_with_delim(\"|\", get_ontology_ids(x))) \n",
    "df[\"term_ids\"] = df.apply(lambda x: combine_columns(x, [\"Gene Ontology\",\"Trait Ontology\",\"Plant Ontology\"]), axis=1)\n",
    "\n",
    "# Adding other expected columns and subsetting the dataset.\n",
    "df[\"species\"] = \"osa\"\n",
    "df[\"description\"] = df[\"Explanation\"].apply(clean_oryzabase_explainations)\n",
    "df[\"pmid\"] = \"\"\n",
    "df = df[[\"species\", \"gene_names\", \"description\", \"term_ids\"]]\n",
    "print(df[[\"species\",\"gene_names\"]].head(10))\n",
    "print(df[[\"species\",\"gene_names\"]].sample(10))"
   ]
  },
  {
   "cell_type": "code",
   "execution_count": 15,
   "metadata": {},
   "outputs": [],
   "source": [
    "# Outputting the dataset of descriptions to a csv file.\n",
    "path = os.path.join(OUTPUT_DIR,\"oryzabase_phenotype_descriptions_and_annotations.csv\")\n",
    "df.to_csv(path, index=False)"
   ]
  }
 ],
 "metadata": {
  "kernelspec": {
   "display_name": "Python 3",
   "language": "python",
   "name": "python3"
  },
  "language_info": {
   "codemirror_mode": {
    "name": "ipython",
    "version": 3
   },
   "file_extension": ".py",
   "mimetype": "text/x-python",
   "name": "python",
   "nbconvert_exporter": "python",
   "pygments_lexer": "ipython3",
   "version": "3.6.13"
  }
 },
 "nbformat": 4,
 "nbformat_minor": 2
}
