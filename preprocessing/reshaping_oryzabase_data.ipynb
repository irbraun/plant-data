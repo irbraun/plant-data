{
 "cells": [
  {
   "cell_type": "markdown",
   "metadata": {},
   "source": [
    "## Reading in data available through Oryzabase (Integrated Rice Science Database)\n",
    "The purpose of this notebook is to read in and do a preliminary analysis of the data related to text descriptions and ontology term annotations that are available through Oryzabase. The data needs to be organized and also restructured into a standard format that will allow it to be easily combined with datasets from other resources. This notebook takes the following input files that were obtained from OryzaBase and produces a set of files that have standard columns that are listed and described below.\n",
    "\n",
    "### Files read\n",
    "```\n",
    "plant-data/databases/oryzabase/OryzabaseGeneListEn_20190826010113.txt\n",
    "```\n",
    "\n",
    "### Files created\n",
    "```\n",
    "plant-data/reshaped_data/oryzabase_phenotype_descriptions_and_annotations.csv\n",
    "```\n",
    "\n",
    "### Columns in the created files\n",
    "* **species**: A string indicating what species the gene is in, currently uses the 3-letter codes from the KEGG database.\n",
    "* **unique_gene_identifiers**: Pipe delimited list of gene identifers, names, models, etc which must uniquely refer to this gene.\n",
    "* **other_gene_identifiers**: Pipe delimited list of other identifers, names, aliases, synonyms for the gene, which may but do not have to uniquely refer to it.\n",
    "* **gene_models**: Pipe delimited list of gene model names that map to this gene.\n",
    "* **descriptions**: A free text field for any descriptions of phenotyes associated with this gene.\n",
    "* **annotations**: Pipe delimited list of gene ontology term identifiers.\n",
    "* **sources**: Pipe delimited list of strings that indicate where this data comes from such as database names."
   ]
  },
  {
   "cell_type": "code",
   "execution_count": 6,
   "metadata": {
    "scrolled": true
   },
   "outputs": [],
   "source": [
    "import matplotlib.pyplot as plt\n",
    "import matplotlib as mpl\n",
    "import seaborn as sns\n",
    "import sys\n",
    "import os\n",
    "import warnings\n",
    "import pandas as pd\n",
    "import numpy as np\n",
    "import itertools\n",
    "import re\n",
    "import matplotlib.pyplot as plt\n",
    "from nltk.tokenize import word_tokenize\n",
    "from nltk.tokenize import sent_tokenize\n",
    "\n",
    "sys.path.append(\"../utils\")\n",
    "from constants import NCBI_TAG, EVIDENCE_CODES\n",
    "\n",
    "sys.path.append(\"../../oats\")\n",
    "from oats.nlp.small import add_prefix_safely\n",
    "from oats.nlp.small import get_ontology_ids, remove_punctuation, remove_enclosing_brackets\n",
    "from oats.nlp.preprocess import concatenate_texts, concatenate_with_delim, replace_delimiter\n",
    "\n",
    "OUTPUT_DIR = \"../reshaped_data\"\n",
    "mpl.rcParams[\"figure.dpi\"] = 200\n",
    "warnings.simplefilter('ignore')\n",
    "pd.set_option('display.max_rows', 500)\n",
    "pd.set_option('display.max_columns', 500)\n",
    "pd.set_option('display.width', 1000)"
   ]
  },
  {
   "cell_type": "code",
   "execution_count": 7,
   "metadata": {},
   "outputs": [
    {
     "data": {
      "text/html": [
       "<div>\n",
       "<style scoped>\n",
       "    .dataframe tbody tr th:only-of-type {\n",
       "        vertical-align: middle;\n",
       "    }\n",
       "\n",
       "    .dataframe tbody tr th {\n",
       "        vertical-align: top;\n",
       "    }\n",
       "\n",
       "    .dataframe thead th {\n",
       "        text-align: right;\n",
       "    }\n",
       "</style>\n",
       "<table border=\"1\" class=\"dataframe\">\n",
       "  <thead>\n",
       "    <tr style=\"text-align: right;\">\n",
       "      <th></th>\n",
       "      <th>c1</th>\n",
       "      <th>c2</th>\n",
       "      <th>thing</th>\n",
       "    </tr>\n",
       "  </thead>\n",
       "  <tbody>\n",
       "    <tr>\n",
       "      <th>0</th>\n",
       "      <td>a</td>\n",
       "      <td>ee</td>\n",
       "      <td>a|ee</td>\n",
       "    </tr>\n",
       "    <tr>\n",
       "      <th>1</th>\n",
       "      <td>b</td>\n",
       "      <td>eleeese</td>\n",
       "      <td>b|eleeese</td>\n",
       "    </tr>\n",
       "    <tr>\n",
       "      <th>2</th>\n",
       "      <td>c</td>\n",
       "      <td>eee|eee</td>\n",
       "      <td>c|eee</td>\n",
       "    </tr>\n",
       "  </tbody>\n",
       "</table>\n",
       "</div>"
      ],
      "text/plain": [
       "  c1       c2      thing\n",
       "0  a       ee       a|ee\n",
       "1  b  eleeese  b|eleeese\n",
       "2  c  eee|eee      c|eee"
      ]
     },
     "execution_count": 7,
     "metadata": {},
     "output_type": "execute_result"
    }
   ],
   "source": [
    "a = [\"a\",\"b\",\"c\"]\n",
    "b = [\"ee\", \"eleeese\", \"eee|eee\"]\n",
    "d = pd.DataFrame({\"c1\":a, \"c2\":b})\n",
    "\n",
    "\n",
    "combine_columns = lambda row, col_names: concatenate_with_delim(\"|\", [row[col_name] for col_name in col_names])\n",
    "\n",
    "d[\"thing\"] = d.apply(lambda x: combine_columns(x, [\"c1\",\"c2\"]), axis=1)\n",
    "d"
   ]
  },
  {
   "cell_type": "code",
   "execution_count": 8,
   "metadata": {},
   "outputs": [],
   "source": [
    "# Columns that should be in the final reshaped files.\n",
    "reshaped_columns = [\"species\", \n",
    " \"unique_gene_identifiers\", \n",
    " \"other_gene_identifiers\", \n",
    " \"gene_models\", \n",
    " \"descriptions\", \n",
    " \"annotations\", \n",
    " \"sources\"]\n",
    "\n",
    "# Creating and testing a lambda for finding gene model strings.\n",
    "gene_model_pattern_1 = re.compile(\"grmzm.+\")\n",
    "gene_model_pattern_2 = re.compile(\"zm[0-9]+d[0-9]+\")\n",
    "is_gene_model = lambda s: bool(gene_model_pattern_1.match(s.lower() or gene_model_pattern_2.match(s.lower())))"
   ]
  },
  {
   "cell_type": "markdown",
   "metadata": {},
   "source": [
    "### Part 1: Phenotypic Text Data\n",
    "There are several columns that contain information about gene names and accessions. We need to know what type of information is in each in order to know which should be retained or parsed to form the desired cleaned dataset. We are interested in both gene names that should map to a specific accession (like cms-54257) as well as gene names that are enzyme descriptions (like Ubiquitin-Specific Protease) that could map to more than one gene in a particular species. Each type of information is valuable, but needs to be differentiated so that when comparing whether two rows are specifying the same gene, this is not confused with specifying two different genes that have the same function.\n",
    "\n",
    "The gene symbols in this dataset are typically surrounded by square brackets but not always. If a second symbol for that same gene is mentioned in the same column, the second symbol might be enclosed in parentheses. The synonynms for the gene symbols are similarly sometimes enclosed in square brackets, and are typically separated by commas in cases where more than one are mentioned in this column. Also note that an underscore is being used to represent missing data, so this has to handled so that that character is not treated as a gene name that appears many times."
   ]
  },
  {
   "cell_type": "code",
   "execution_count": 9,
   "metadata": {},
   "outputs": [
    {
     "name": "stdout",
     "output_type": "stream",
     "text": [
      "(17674, 14)\n",
      "CGSNL Gene Symbol           10041\n",
      "Gene symbol synonym(s)      15948\n",
      "CGSNL Gene Name              9845\n",
      "Gene name synonym(s)        15216\n",
      "Protein Name                 5588\n",
      "Allele                       1151\n",
      "Explanation                 13841\n",
      "Trait Class                   726\n",
      "RAP ID                      11531\n",
      "MUS ID                      11642\n",
      "Gramene ID                   1656\n",
      "Gene Ontology                7624\n",
      "Trait Ontology               2476\n",
      "Plant Ontology                797\n"
     ]
    }
   ],
   "source": [
    "filename = \"../databases/oryzabase/OryzabaseGeneListEn_20190826010113.txt\"\n",
    "usecols = [\"CGSNL Gene Symbol\", \"Gene symbol synonym(s)\", \"CGSNL Gene Name\", \"Gene name synonym(s)\", \"Protein Name\", \n",
    "           \"Allele\", \"Explanation\", \"Trait Class\", \"RAP ID\", \"MUS ID\", \"Gramene ID\", \"Gene Ontology\", \n",
    "           \"Trait Ontology\", \"Plant Ontology\"]\n",
    "df = pd.read_table(filename, usecols=usecols, sep=\"\\t\")\n",
    "df.fillna(\"\", inplace=True)\n",
    "unique_values = {col:len(pd.unique(df[col].values)) for col in df.columns}\n",
    "print(df.shape)\n",
    "for k,v in unique_values.items():\n",
    "    print(\"{:25}{:8}\".format(k,v))"
   ]
  },
  {
   "cell_type": "code",
   "execution_count": 10,
   "metadata": {},
   "outputs": [
    {
     "name": "stdout",
     "output_type": "stream",
     "text": [
      "    CGSNL Gene Symbol                  Gene symbol synonym(s)\n",
      "0         [CMS-54257]               [cms-54257]*, [cms-54257]\n",
      "1  [CMS-AK]([CMS-JP])  [cms-ak]([cms-jp]), [cms-jp], [cms-ak]\n",
      "2           [CMS-ARC]   [cms-ARC]*, [cms-ARC] [mt], [cms-ARC]\n",
      "3            [CMS-BO]                                [cms-bo]\n",
      "4            [CMS-CW]                                [cms-CW]\n",
      "      CGSNL Gene Symbol Gene symbol synonym(s)\n",
      "13546           RLCK172              OsRLCK172\n",
      "14146                 _               OsSTA219\n",
      "10718                 _                       \n",
      "14694                 _       OsProCP4, PROCP4\n",
      "2926               NDK3                   Ndk3\n"
     ]
    }
   ],
   "source": [
    "print(df[[\"CGSNL Gene Symbol\", \"Gene symbol synonym(s)\"]].head(5))\n",
    "print(df[[\"CGSNL Gene Symbol\", \"Gene symbol synonym(s)\"]].sample(5))"
   ]
  },
  {
   "cell_type": "markdown",
   "metadata": {},
   "source": [
    "The values in the gene name synonym(s) column can be comma delimited lists if more than one synonym for the gene name was known. Sometimes quotes are used. Empty strings and possibly underscores can be used to denote missing information."
   ]
  },
  {
   "cell_type": "code",
   "execution_count": 11,
   "metadata": {},
   "outputs": [
    {
     "name": "stdout",
     "output_type": "stream",
     "text": [
      "                    CGSNL Gene Name\n",
      "0  CYTOPLASMIC MALE STERILITY 54257\n",
      "1     CYTOPLASMIC MALE STERILITY AK\n",
      "2    CYTOPLASMIC MALE STERILITY ARC\n",
      "3     CYTOPLASMIC MALE STERILITY BO\n",
      "4     CYTOPLASMIC MALE STERILITY CW\n",
      "                      CGSNL Gene Name\n",
      "16487                               _\n",
      "16120                               _\n",
      "17383           ACYL-COA THIOESTERASE\n",
      "7692                    MICRORNA1884B\n",
      "3127   WALL-ASSOCIATED KINASE GENE 95\n"
     ]
    }
   ],
   "source": [
    "print(df[[\"CGSNL Gene Name\"]].head(5))\n",
    "print(df[[\"CGSNL Gene Name\"]].sample(5))"
   ]
  },
  {
   "cell_type": "markdown",
   "metadata": {},
   "source": [
    "The gene name column has strings representing the full name of each gene rather than just the symbol. Note that an underscore is also being used to denote missing values in this column as well."
   ]
  },
  {
   "cell_type": "code",
   "execution_count": 12,
   "metadata": {},
   "outputs": [
    {
     "name": "stdout",
     "output_type": "stream",
     "text": [
      "                                Gene name synonym(s)\n",
      "0  Cytoplasmic mutant induced by somaclonal varia...\n",
      "1            Akebono' cytoplasm, 'Akebono' cytoplasm\n",
      "2     ARC13829-16 cytoplasm, `ARC13829-26' cytoplasm\n",
      "3  Chinsurah boro II' cytoplasm, `Chinsurah boro ...\n",
      "4                        Chinese wild rice cytoplasm\n",
      "                    Gene name synonym(s)\n",
      "7445         MICRORNA169o, osa-miRNA169o\n",
      "11063  transposon CACTG element Rim2-M22\n",
      "17438                           PINOID b\n",
      "16648        Hypothetical conserved gene\n",
      "6975                copper transporter 2\n"
     ]
    }
   ],
   "source": [
    "print(df[[\"Gene name synonym(s)\"]].head(5))\n",
    "print(df[[\"Gene name synonym(s)\"]].sample(5))"
   ]
  },
  {
   "cell_type": "markdown",
   "metadata": {},
   "source": [
    "The values in the gene name synonym(s) column can be comma delimited lists if more than one synonym for the gene name was known. Sometimes quotes are used. Empty strings and possibly underscores can be used to denote missing information."
   ]
  },
  {
   "cell_type": "code",
   "execution_count": 13,
   "metadata": {},
   "outputs": [
    {
     "name": "stdout",
     "output_type": "stream",
     "text": [
      "                                 Protein Name Allele\n",
      "11621                                               \n",
      "11771                                               \n",
      "5138   LATE EMBRYOGENESIS ABUNDANT PROTEIN 24       \n",
      "10503                    dye1, dye1-1, dye1-2       \n",
      "16394                                               \n"
     ]
    }
   ],
   "source": [
    "print(df[[\"Protein Name\",\"Allele\"]].sample(5))"
   ]
  },
  {
   "cell_type": "markdown",
   "metadata": {},
   "source": [
    "Both the protein name and allele columns are sparse within the dataset. Either can be a single value or a comma delimited list of values. These may not need to be retained for finding reference to genes in other resources because we already have more standardized representations of the genes in other columns."
   ]
  },
  {
   "cell_type": "code",
   "execution_count": 14,
   "metadata": {},
   "outputs": [
    {
     "name": "stdout",
     "output_type": "stream",
     "text": [
      "             RAP ID                              MUS ID\n",
      "9146   Os03g0215900                    LOC_Os03g11670.1\n",
      "15101  Os08g0192200  LOC_Os08g09300.2, LOC_Os08g09300.1\n",
      "7496                                                   \n",
      "14953  Os03g0853200                    LOC_Os03g63620.1\n",
      "917                                                    \n"
     ]
    }
   ],
   "source": [
    "print(df[[\"RAP ID\",\"MUS ID\"]].sample(5))"
   ]
  },
  {
   "cell_type": "markdown",
   "metadata": {},
   "source": [
    "Both the RAP ID and the MUS ID can columns can contain multiple values for a given gene which are included as members of a comma delimited list. These values can also be missing using the same scheme for missing information as in the rest of the dataset."
   ]
  },
  {
   "cell_type": "markdown",
   "metadata": {},
   "source": [
    "The following functions were created based on the needs following how the gene symbols, names, synonyms, and accessions are previously described in this dataset. These are a not guaranteed to be a perfectly accurate method of parsing in the information in this dataset but they are meant to approximate what is required based on going through the dataset by hand. The methods are meant to be applied only to specific columns within the dataset, and to make the code that later cleans the columns more readable by compressing multiple cleaning steps into a single function. Some of these rely on other very specific functions that are within the text preprocessing module and not shown here."
   ]
  },
  {
   "cell_type": "code",
   "execution_count": 15,
   "metadata": {},
   "outputs": [],
   "source": [
    "def handle_synonym_in_parentheses(text, min_length):\n",
    "    # Looks at a string that is suspected to be in a format like \"name (othername)\". If\n",
    "    # that is the case then a list of strings is returned that looks like [name, othername].\n",
    "    # This is useful when a column is specifying something like a gene name but a synonym\n",
    "    # might be mentioned in the same column in parentheses, so the whole string in that \n",
    "    # column is not useful for searching against as whole. Does not consider text in\n",
    "    # parentheses shorter than min_length to be a real synonym, but rather part of the \n",
    "    # name, such as gene_name(t) for example. \n",
    "    names = []\n",
    "    pattern = r\"\\(.*?\\)\"\n",
    "    results = re.findall(pattern, text)\n",
    "    for result in results:\n",
    "        enclosed_string = result[1:-1]\n",
    "        if len(enclosed_string)>=min_length:\n",
    "            text = text.replace(result, \"\")\n",
    "            names.append(enclosed_string)\n",
    "    names.append(text)\n",
    "    names = [name.strip() for name in names]\n",
    "    return(names)\n",
    "\n",
    "\n",
    "def clean_oryzabase_symbol(string):\n",
    "    # Should be applied to the gene symbol column in the dataset.\n",
    "    # Returns a single string representing a bar delimited list of gene symbols.\n",
    "    string = string.replace(\"*\",\"\")\n",
    "    names = handle_synonym_in_parentheses(string, min_length=4)\n",
    "    names = [remove_enclosing_brackets(name) for name in names]\n",
    "    names = [name for name in names if len(name)>=2] # Retain only names that are atleast two characters.\n",
    "    names_string = concatenate_with_delim(\"|\", names)\n",
    "    return(names_string)\n",
    "\n",
    "def clean_oryzabase_symbol_synonyms(string):\n",
    "    # Should be applied to the gene symbol synonym(s) column in the dataset.\n",
    "    # Returns a single string representing a bar delimited list of gene symbols.\n",
    "    string = string.replace(\"*\",\"\")\n",
    "    names = string.split(\",\")\n",
    "    names = [name.strip() for name in names]\n",
    "    names = [remove_enclosing_brackets(name) for name in names]\n",
    "    names_string = concatenate_with_delim(\"|\", names)\n",
    "    return(names_string)"
   ]
  },
  {
   "cell_type": "markdown",
   "metadata": {},
   "source": [
    "### Part 2: Ontology Term Annotations\n",
    "Multiple columns within the dataset specify ontology term annotations that have been applied to the geen mentioned on that particular line. Ontology term annotations are separated into different columns based on which ontology the terms belong to, and both the term ID of each annotation and the accompanying label for that term and explicitly given. Columns for terms from the Gene Ontolgoy (GO), Plant Ontology (PO), and Plant Trait Ontology (TO) are all included. There is no information about what evidence codes these annotations are associated with in this dataset."
   ]
  },
  {
   "cell_type": "code",
   "execution_count": 16,
   "metadata": {},
   "outputs": [
    {
     "name": "stdout",
     "output_type": "stream",
     "text": [
      "                                       Gene Ontology\n",
      "0  GO:0000001 - mitochondrion inheritance, GO:000...\n",
      "1  GO:0000001 - mitochondrion inheritance, GO:000...\n",
      "2  GO:0007275 - multicellular organismal development\n",
      "3  GO:0007275 - multicellular organismal developm...\n",
      "4  GO:0007275 - multicellular organismal development\n",
      "                                      Plant Ontology\n",
      "0                               PO:0009066 - anther \n",
      "1                               PO:0009066 - anther \n",
      "2  PO:0009082 - spikelet floret , PO:0020048 - mi...\n",
      "3  PO:0009082 - spikelet floret , PO:0020048 - mi...\n",
      "4  PO:0009082 - spikelet floret , PO:0020048 - mi...\n",
      "                                      Trait Ontology\n",
      "0  TO:0000232 - cytoplasmic male sterility (sensu...\n",
      "1  TO:0000232 - cytoplasmic male sterility (sensu...\n",
      "2  TO:0000232 - cytoplasmic male sterility (sensu...\n",
      "3  TO:0000232 - cytoplasmic male sterility (sensu...\n",
      "4  TO:0000232 - cytoplasmic male sterility (sensu...\n"
     ]
    }
   ],
   "source": [
    "print(df[[\"Gene Ontology\"]].head(5))\n",
    "print(df[[\"Plant Ontology\"]].head(5))\n",
    "print(df[[\"Trait Ontology\"]].head(5))"
   ]
  },
  {
   "cell_type": "markdown",
   "metadata": {},
   "source": [
    "Both the term IDs and labels for each annotation are given. Multiple annotations from the same ontology for a given line are separated by commas. We want to parse out just the gene ontology IDs for the cleaned dataset so that they can be referenced later, all the other information is not needed. There is a function to the return a list of gene IDs present in a longer string of text that is in the preprocessing module."
   ]
  },
  {
   "cell_type": "markdown",
   "metadata": {},
   "source": [
    "### Part 3: Handling other text description and keyword information in this data\n",
    "This dataset does not contain any columns that consistly contain a natural language description of a phenotype associated with a given gene. But some text-based information is still present. The trait class column contains a value from a limited set of keyword descriptors for the trait a particular gene is associated with. The size of the vocabulary used is obtained here. Also see the specific description of this keyword vocabulary here (https://shigen.nig.ac.jp/rice/oryzabase/traitclass/). The explaination column also occasionally contains text information about a corresponding phenotype."
   ]
  },
  {
   "cell_type": "code",
   "execution_count": 18,
   "metadata": {},
   "outputs": [
    {
     "name": "stdout",
     "output_type": "stream",
     "text": [
      "  4121                      \n",
      "  3621   Biochemical character\n",
      "  2566   Other              \n",
      "   875   Tolerance and resistance - Stress tolerance\n",
      "   862   Biochemical character,  Tolerance and resistance - Stress tolerance\n",
      "   527   Tolerance and resistance - Disease resistance\n",
      "   293   Reproductive organ - Spikelet, flower, glume, awn\n",
      "   244   Biochemical character,  Tolerance and resistance - Disease resistance\n",
      "   222   Character as QTL - Yield and productivity\n",
      "   204   Tolerance and resistance - Stress tolerance,  Other\n"
     ]
    }
   ],
   "source": [
    "# Get a list sorted by number of occurences for each trait class.\n",
    "description_counts = df[\"Trait Class\"].value_counts().to_dict()\n",
    "sorted_tuples = sorted(description_counts.items(), key = lambda x: x[1], reverse=True)\n",
    "for t in sorted_tuples[0:10]:\n",
    "    print(\"{:6}  {:20}\".format(t[1],t[0][:70]))"
   ]
  },
  {
   "cell_type": "markdown",
   "metadata": {},
   "source": [
    "The most common value in the trait class column is whitespace or an empty string indicating missing data. Another very common value though is 'Other' which has 2,566 occurences out of the 17,674 total instances. This needs to be handled if using this information as text descriptions because this contains no semantics relevant to the phenotype (two phenotypes with trait classes of 'Other' should not be considered similar)."
   ]
  },
  {
   "cell_type": "code",
   "execution_count": 19,
   "metadata": {},
   "outputs": [
    {
     "name": "stdout",
     "output_type": "stream",
     "text": [
      "                                             Explanation\n",
      "8018   miRBASE accession: MI0010708. osa-MIR2120 in m...\n",
      "15182                  Q75LR2. AB122057. LOC_Os03g27230.\n",
      "12548  class III PUB protein (U-box + GKL-box). LOC_O...\n",
      "4424   NBS-LRR protein. AB604636, AB604637, AB604638,...\n",
      "5799                                                    \n",
      "6223                                     LOC_Os08g38270.\n",
      "9365                           BN000589. LOC_Os04g59160.\n",
      "14301  OSCA1 homologue. KJ920371. LOC_Os01g35050. Ory...\n",
      "10180                                                   \n",
      "1140   QTL which controls days to heading, located be...\n",
      "1075   Pollen semi-sterility found in the hybrid betw...\n",
      "2537   AF484682. AY661468. X76064. U37687. UBQ10 in J...\n",
      "13194                            LOC_Os07g01090. Q69LA1.\n",
      "8288   LOC_Os03g61480. homologous to the tomato fruit...\n",
      "15109                                                   \n",
      "6203                                     LOC_Os05g12580.\n",
      "14761  LOC_Os04g02980. Subtilisin Family (Peptidase_S...\n",
      "15249  P104-C8 has 13 loci on chromosome 2, 7, 9, 10,...\n",
      "9680                 Copia-like retrotransposon. Z75514.\n",
      "12898  One of 23 novel conserved miRNAs. target: LOC_...\n",
      "2412   AJ486975, AF479883, AF216315, AF479884, AJ2503...\n",
      "8781                                           AJ535212.\n",
      "16093  LOC_Os11g01370. MH037018. GO:0071554: cell wal...\n",
      "17522                                                   \n",
      "14260  a CMS-associated gene of RT98-CMS. AP012527 (O...\n",
      "8038   Q0JKK6. OsWOX9A in Cheng et al. 2014. LOC_Os01...\n",
      "15640                                    LOC_Os06g02390.\n",
      "6099   AY222862. Q0DAK7. vitamin E biosynthetic enzym...\n",
      "11550       LOC_Os01g41280. Os_F0087 in Hua et al. 2011.\n",
      "4662                                     LOC_Os08g36920.\n"
     ]
    }
   ],
   "source": [
    "print(df[[\"Explanation\"]].sample(30))"
   ]
  },
  {
   "cell_type": "markdown",
   "metadata": {},
   "source": [
    "The explanation column holds information potentially about the phenotype, but also sometimes contains redundant information about the gene names or identifiers and sometimes the ontology term annotations as well. Sometimes methods are mentioned as well. Some of this could be handled with parsing to remove the redundant information that already appears somewhere else in a particular column for this line, but this should be considered irregular text annotations or descriptions for the purposes of downstream analyses. The following cell contains a preliminary attempt at a function that cleans values in this column by removing some redundant information from other columns."
   ]
  },
  {
   "cell_type": "code",
   "execution_count": 20,
   "metadata": {},
   "outputs": [],
   "source": [
    "def clean_oryzabase_explainations(string):\n",
    "    # Should be applied to the explanation column in the dataset.\n",
    "    # Returns a version of the the value in that column without some redundant information.\n",
    "    ontology_ids = get_ontology_ids(string)\n",
    "    for ontology_id in ontology_ids:\n",
    "        string = string.replace(ontology_id,\"\")\n",
    "        string = remove_punctuation(string)\n",
    "    return(string)"
   ]
  },
  {
   "cell_type": "code",
   "execution_count": 22,
   "metadata": {},
   "outputs": [
    {
     "name": "stdout",
     "output_type": "stream",
     "text": [
      "  species                                         gene_names\n",
      "0     osa  CMS-54257|cms-54257|CYTOPLASMIC MALE STERILITY...\n",
      "1     osa  CMS-JP|CMS-AK|[cms-ak]([cms-jp])|cms-jp|cms-ak...\n",
      "2     osa  CMS-ARC|cms-ARC|cms-ARC] [mt|CYTOPLASMIC MALE ...\n",
      "3     osa  CMS-BO|cms-bo|CYTOPLASMIC MALE STERILITY BO|Ch...\n",
      "4     osa  CMS-CW|cms-CW|CYTOPLASMIC MALE STERILITY CW|Ch...\n",
      "5     osa  CMS-GAM|cms-GAM|CYTOPLASMIC MALE STERILITY GAM...\n",
      "6     osa  CMS-HL|cms-HL|CYTOPLASMIC MALE STERILITY HL|HL...\n",
      "7     osa  CMS-IR66707A|cms-IR66707A|CYTOPLASMIC MALE STE...\n",
      "8     osa  CMS-KALINGA-I|cms-Kalinga-I|CYTOPLASMIC MALE S...\n",
      "9     osa  CMS-KHIABORO|cms-Khiaboro|CYTOPLASMIC MALE STE...\n",
      "      species                                         gene_names\n",
      "3555      osa  Os07g0606600|LOC_Os07g41580.1|HAP3F|OsHAP3F|NF...\n",
      "10620     osa  Os11g0127000|LOC_Os11g03310.1|NAC123|ONAC123|N...\n",
      "3146      osa  Os11g0555600|LOC_Os11g35220.1|WAK117|OsWAK117|...\n",
      "7928      osa  MIR5072|miR5072|osa-miR5072|osa-MIR5072|MICROR...\n",
      "13888     osa  Os11g0431100|LOC_Os11g24290.1|SCP51|OsSCP51|SE...\n",
      "2991      osa  Os01g0971800|LOC_Os01g74020.1|PCL1|OsPCL1|PHYT...\n",
      "15037     osa  Os08g0557000|LOC_Os08g44280.2, LOC_Os08g44280....\n",
      "7420      osa  MIR166B|miR166b|osa-miR166bosa-miR166b-3p osa-...\n",
      "8400      osa  Os08g0558200|LOC_Os08g44400.3, LOC_Os08g44400....\n",
      "12014     osa  Os10g0135300|LOC_Os10g04590.1|OsFbox522|Os_F04...\n"
     ]
    }
   ],
   "source": [
    "# Restructuring and combining columns that have gene name information.\n",
    "df[\"CGSNL Gene Symbol\"] = df[\"CGSNL Gene Symbol\"].apply(clean_oryzabase_symbol)\n",
    "df[\"Gene symbol synonym(s)\"] = df[\"Gene symbol synonym(s)\"].apply(clean_oryzabase_symbol_synonyms)\n",
    "df[\"CGSNL Gene Name\"] = df[\"CGSNL Gene Name\"].apply(lambda x: x.replace(\"_\",\"\").strip())\n",
    "df[\"Gene name synonym(s)\"] = df[\"Gene name synonym(s)\"].apply(lambda x: replace_delimiter(text=x, old_delim=\",\", new_delim=\"|\"))\n",
    "combine_columns = lambda row, columns: concatenate_with_delim(\"|\", [row[column] for column in columns])\n",
    "\n",
    "df[\"gene_names\"] = df.apply(lambda x: combine_columns(x, [\"RAP ID\",\"MUS ID\",\"CGSNL Gene Symbol\", \"Gene symbol synonym(s)\", \"CGSNL Gene Name\", \"Gene name synonym(s)\"]), axis=1)\n",
    "#df[\"gene_names\"] = np.vectorize(concatenate_with_delim)(df[\"RAP ID\"], df[\"MUS ID\"], df[\"CGSNL Gene Symbol\"], df[\"Gene symbol synonym(s)\"], df[\"CGSNL Gene Name\"], df[\"Gene name synonym(s)\"])\n",
    "\n",
    "\n",
    "# Restructuring and combining columns that have ontology term annotations.\n",
    "df[\"Gene Ontology\"] = df[\"Gene Ontology\"].apply(lambda x: concatenate_with_delim(\"|\", get_ontology_ids(x)))\n",
    "df[\"Trait Ontology\"] = df[\"Trait Ontology\"].apply(lambda x: concatenate_with_delim(\"|\", get_ontology_ids(x))) \n",
    "df[\"Plant Ontology\"] = df[\"Plant Ontology\"].apply(lambda x: concatenate_with_delim(\"|\", get_ontology_ids(x))) \n",
    "\n",
    "\n",
    "\n",
    "\n",
    "df[\"term_ids\"] = df.apply(lambda x: combine_columns(x, [\"Gene Ontology\",\"Trait Ontology\",\"Plant Ontology\"]), axis=1)\n",
    "\n",
    "\n",
    "#df[\"term_ids\"] = np.vectorize(concatenate_with_bar_delim)(df[\"Gene Ontology\"], df[\"Trait Ontology\"], df[\"Plant Ontology\"])\n",
    "\n",
    "# Adding other expected columns and subsetting the dataset.\n",
    "df[\"species\"] = \"osa\"\n",
    "df[\"description\"] = df[\"Explanation\"].apply(clean_oryzabase_explainations)\n",
    "df[\"pmid\"] = \"\"\n",
    "df = df[[\"species\", \"gene_names\", \"description\", \"term_ids\"]]\n",
    "print(df[[\"species\",\"gene_names\"]].head(10))\n",
    "print(df[[\"species\",\"gene_names\"]].sample(10))"
   ]
  },
  {
   "cell_type": "code",
   "execution_count": 23,
   "metadata": {},
   "outputs": [],
   "source": [
    "# Outputting the dataset of descriptions to a csv file.\n",
    "path = os.path.join(OUTPUT_DIR,\"oryzabase_phenotype_descriptions_and_annotations.csv\")\n",
    "df.to_csv(path, index=False)"
   ]
  }
 ],
 "metadata": {
  "kernelspec": {
   "display_name": "Python 3",
   "language": "python",
   "name": "python3"
  },
  "language_info": {
   "codemirror_mode": {
    "name": "ipython",
    "version": 3
   },
   "file_extension": ".py",
   "mimetype": "text/x-python",
   "name": "python",
   "nbconvert_exporter": "python",
   "pygments_lexer": "ipython3",
   "version": "3.6.10"
  }
 },
 "nbformat": 4,
 "nbformat_minor": 2
}
