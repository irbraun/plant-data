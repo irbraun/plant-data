{
 "cells": [
  {
   "cell_type": "markdown",
   "metadata": {},
   "source": [
    "## Reading in data available through Oryzabase (Integrated Rice Science Database)\n",
    "The purpose of this notebook is to read in and do a preliminary analysis of the data related to text descriptions and ontology term annotations that are available through Oryzabase. The data needs to be organized and also restructured into a standard format that will allow it to be easily combined with datasets from other resources. This notebook takes the following input files that were obtained from OryzaBase and produces a set of files that have standard columns, including the species name, gene names, gene synonyms, text descriptions, and ontology term annotations. The gene names column includes unique gene accessions, names, symbols, or identifiers. The gene synonyms column is included for strings that are not necessary unique identifiers for a particular gene but still refer to that gene or describe its function.\n",
    "\n",
    "### Files read\n",
    "```\n",
    "plant-data/databases/oryzabase/OryzabaseGeneListEn_20190826010113.txt\n",
    "```\n",
    "\n",
    "### Files created\n",
    "```\n",
    "plant-data/reshaped_data/oryzabase_phenotype_descriptions_and_annotations.csv\n",
    "```"
   ]
  },
  {
   "cell_type": "code",
   "execution_count": 1,
   "metadata": {
    "scrolled": true
   },
   "outputs": [],
   "source": [
    "import matplotlib.pyplot as plt\n",
    "import matplotlib as mpl\n",
    "import seaborn as sns\n",
    "import sys\n",
    "import os\n",
    "import warnings\n",
    "import pandas as pd\n",
    "import numpy as np\n",
    "import itertools\n",
    "import re\n",
    "import matplotlib.pyplot as plt\n",
    "from nltk.tokenize import word_tokenize\n",
    "from nltk.tokenize import sent_tokenize\n",
    "\n",
    "sys.path.append(\"../../oats\")\n",
    "from oats.utils.utils import to_abbreviation\n",
    "from oats.utils.constants import NCBI_TAG\n",
    "from oats.utils.constants import EVIDENCE_CODES\n",
    "from oats.nlp.preprocess import add_prefix\n",
    "from oats.nlp.preprocess import other_delim_to_bar_delim\n",
    "from oats.nlp.preprocess import get_ontology_ids\n",
    "from oats.nlp.preprocess import concatenate_descriptions\n",
    "from oats.nlp.preprocess import remove_punctuation\n",
    "from oats.nlp.preprocess import handle_synonym_in_parentheses\n",
    "from oats.nlp.preprocess import remove_enclosing_brackets\n",
    "from oats.nlp.preprocess import remove_short_tokens\n",
    "from oats.nlp.preprocess import concatenate_with_bar_delim\n",
    "\n",
    "OUTPUT_DIR = \"../reshaped_data\"\n",
    "mpl.rcParams[\"figure.dpi\"] = 200\n",
    "warnings.simplefilter('ignore')\n",
    "pd.set_option('display.max_rows', 500)\n",
    "pd.set_option('display.max_columns', 500)\n",
    "pd.set_option('display.width', 1000)"
   ]
  },
  {
   "cell_type": "markdown",
   "metadata": {},
   "source": [
    "### Part 1: Phenotypic Text Data\n",
    "There are several columns that contain information about gene names and accessions. We need to know what type of information is in each in order to know which should be retained or parsed to form the desired cleaned dataset. We are interested in both gene names that should map to a specific accession (like cms-54257) as well as gene names that are enzyme descriptions (like Ubiquitin-Specific Protease) that could map to more than one gene in a particular species. Each type of information is valuable, but needs to be differentiated so that when comparing whether two rows are specifying the same gene, this is not confused with specifying two different genes that have the same function.\n",
    "\n",
    "The gene symbols in this dataset are typically surrounded by square brackets but not always. If a second symbol for that same gene is mentioned in the same column, the second symbol might be enclosed in parentheses. The synonynms for the gene symbols are similarly sometimes enclosed in square brackets, and are typically separated by commas in cases where more than one are mentioned in this column. Also note that an underscore is being used to represent missing data, so this has to handled so that that character is not treated as a gene name that appears many times."
   ]
  },
  {
   "cell_type": "code",
   "execution_count": 2,
   "metadata": {},
   "outputs": [
    {
     "name": "stdout",
     "output_type": "stream",
     "text": [
      "(17674, 14)\n",
      "CGSNL Gene Symbol           10041\n",
      "Gene symbol synonym(s)      15948\n",
      "CGSNL Gene Name              9845\n",
      "Gene name synonym(s)        15216\n",
      "Protein Name                 5588\n",
      "Allele                       1151\n",
      "Explanation                 13841\n",
      "Trait Class                   726\n",
      "RAP ID                      11531\n",
      "MUS ID                      11642\n",
      "Gramene ID                   1656\n",
      "Gene Ontology                7624\n",
      "Trait Ontology               2476\n",
      "Plant Ontology                797\n"
     ]
    }
   ],
   "source": [
    "filename = \"../databases/oryzabase/OryzabaseGeneListEn_20190826010113.txt\"\n",
    "usecols = [\"CGSNL Gene Symbol\", \"Gene symbol synonym(s)\", \"CGSNL Gene Name\", \"Gene name synonym(s)\", \"Protein Name\", \n",
    "           \"Allele\", \"Explanation\", \"Trait Class\", \"RAP ID\", \"MUS ID\", \"Gramene ID\", \"Gene Ontology\", \n",
    "           \"Trait Ontology\", \"Plant Ontology\"]\n",
    "df = pd.read_table(filename, usecols=usecols, sep=\"\\t\")\n",
    "df.fillna(\"\", inplace=True)\n",
    "unique_values = {col:len(pd.unique(df[col].values)) for col in df.columns}\n",
    "print(df.shape)\n",
    "for k,v in unique_values.items():\n",
    "    print(\"{:25}{:8}\".format(k,v))"
   ]
  },
  {
   "cell_type": "code",
   "execution_count": 3,
   "metadata": {},
   "outputs": [
    {
     "name": "stdout",
     "output_type": "stream",
     "text": [
      "    CGSNL Gene Symbol                  Gene symbol synonym(s)\n",
      "0         [CMS-54257]               [cms-54257]*, [cms-54257]\n",
      "1  [CMS-AK]([CMS-JP])  [cms-ak]([cms-jp]), [cms-jp], [cms-ak]\n",
      "2           [CMS-ARC]   [cms-ARC]*, [cms-ARC] [mt], [cms-ARC]\n",
      "3            [CMS-BO]                                [cms-bo]\n",
      "4            [CMS-CW]                                [cms-CW]\n",
      "      CGSNL Gene Symbol Gene symbol synonym(s)\n",
      "13947                 _         Osthi11, thi11\n",
      "8548                  _                 atpE.p\n",
      "11023                 _               R2R3-MYB\n",
      "3770               PPT2                 OsPPT2\n",
      "3404              NAAT1                OsNAAT1\n"
     ]
    }
   ],
   "source": [
    "print(df[[\"CGSNL Gene Symbol\", \"Gene symbol synonym(s)\"]].head(5))\n",
    "print(df[[\"CGSNL Gene Symbol\", \"Gene symbol synonym(s)\"]].sample(5))"
   ]
  },
  {
   "cell_type": "markdown",
   "metadata": {},
   "source": [
    "The values in the gene name synonym(s) column can be comma delimited lists if more than one synonym for the gene name was known. Sometimes quotes are used. Empty strings and possibly underscores can be used to denote missing information."
   ]
  },
  {
   "cell_type": "code",
   "execution_count": 4,
   "metadata": {},
   "outputs": [
    {
     "name": "stdout",
     "output_type": "stream",
     "text": [
      "                    CGSNL Gene Name\n",
      "0  CYTOPLASMIC MALE STERILITY 54257\n",
      "1     CYTOPLASMIC MALE STERILITY AK\n",
      "2    CYTOPLASMIC MALE STERILITY ARC\n",
      "3     CYTOPLASMIC MALE STERILITY BO\n",
      "4     CYTOPLASMIC MALE STERILITY CW\n",
      "                        CGSNL Gene Name\n",
      "8795                                  _\n",
      "4447   RING DOMAIN-CONTAINING PROTEIN 5\n",
      "16059           GERMIN-LIKE PROTEIN 9-2\n",
      "12753                                 _\n",
      "15843                                 _\n"
     ]
    }
   ],
   "source": [
    "print(df[[\"CGSNL Gene Name\"]].head(5))\n",
    "print(df[[\"CGSNL Gene Name\"]].sample(5))"
   ]
  },
  {
   "cell_type": "markdown",
   "metadata": {},
   "source": [
    "The gene name column has strings representing the full name of each gene rather than just the symbol. Note that an underscore is also being used to denote missing values in this column as well."
   ]
  },
  {
   "cell_type": "code",
   "execution_count": 5,
   "metadata": {},
   "outputs": [
    {
     "name": "stdout",
     "output_type": "stream",
     "text": [
      "                                Gene name synonym(s)\n",
      "0  Cytoplasmic mutant induced by somaclonal varia...\n",
      "1            Akebono' cytoplasm, 'Akebono' cytoplasm\n",
      "2     ARC13829-16 cytoplasm, `ARC13829-26' cytoplasm\n",
      "3  Chinsurah boro II' cytoplasm, `Chinsurah boro ...\n",
      "4                        Chinese wild rice cytoplasm\n",
      "                                    Gene name synonym(s)\n",
      "15863  MATH-BTB protein 39, MDC protein with a BTB do...\n",
      "13286         hybrid proline- or glycine-rich protein 10\n",
      "14106                                                   \n",
      "3263                                     spotted leaf 21\n",
      "2347                          dynamin-related protein 3A\n"
     ]
    }
   ],
   "source": [
    "print(df[[\"Gene name synonym(s)\"]].head(5))\n",
    "print(df[[\"Gene name synonym(s)\"]].sample(5))"
   ]
  },
  {
   "cell_type": "markdown",
   "metadata": {},
   "source": [
    "The values in the gene name synonym(s) column can be comma delimited lists if more than one synonym for the gene name was known. Sometimes quotes are used. Empty strings and possibly underscores can be used to denote missing information."
   ]
  },
  {
   "cell_type": "code",
   "execution_count": 6,
   "metadata": {},
   "outputs": [
    {
     "name": "stdout",
     "output_type": "stream",
     "text": [
      "                    Protein Name Allele\n",
      "1479                                   \n",
      "1007                                   \n",
      "8675                                   \n",
      "1194                                   \n",
      "5239  TRYPTOPHAN DECARBOXYLASE 2       \n"
     ]
    }
   ],
   "source": [
    "print(df[[\"Protein Name\",\"Allele\"]].sample(5))"
   ]
  },
  {
   "cell_type": "markdown",
   "metadata": {},
   "source": [
    "Both the protein name and allele columns are sparse within the dataset. Either can be a single value or a comma delimited list of values. These may not need to be retained for finding reference to genes in other resources because we already have more standardized representations of the genes in other columns."
   ]
  },
  {
   "cell_type": "code",
   "execution_count": 7,
   "metadata": {},
   "outputs": [
    {
     "name": "stdout",
     "output_type": "stream",
     "text": [
      "             RAP ID            MUS ID\n",
      "10335                                \n",
      "4976   Os05g0103200  LOC_Os05g01270.1\n",
      "8239   Os11g0181500  LOC_Os11g07916.1\n",
      "1539                                 \n",
      "3100                                 \n"
     ]
    }
   ],
   "source": [
    "print(df[[\"RAP ID\",\"MUS ID\"]].sample(5))"
   ]
  },
  {
   "cell_type": "markdown",
   "metadata": {},
   "source": [
    "Both the RAP ID and the MUS ID can columns can contain multiple values for a given gene which are included as members of a comma delimited list. These values can also be missing using the same scheme for missing information as in the rest of the dataset."
   ]
  },
  {
   "cell_type": "markdown",
   "metadata": {},
   "source": [
    "The following functions were created based on the needs following how the gene symbols, names, synonyms, and accessions are previously described in this dataset. These are a not guaranteed to be a perfectly accurate method of parsing in the information in this dataset but they are meant to approximate what is required based on going through the dataset by hand. The methods are meant to be applied only to specific columns within the dataset, and to make the code that later cleans the columns more readable by compressing multiple cleaning steps into a single function. Some of these rely on other very specific functions that are within the text preprocessing module and not shown here."
   ]
  },
  {
   "cell_type": "code",
   "execution_count": 8,
   "metadata": {},
   "outputs": [],
   "source": [
    "def clean_oryzabase_symbol(string):\n",
    "    # Should be applied to the gene symbol column in the dataset.\n",
    "    # Returns a single string representing a bar delimited list of gene symbols.\n",
    "    string = string.replace(\"*\",\"\")\n",
    "    names = handle_synonym_in_parentheses(string, min_length=4)\n",
    "    names = [remove_enclosing_brackets(name) for name in names]\n",
    "    names = remove_short_tokens(names, min_length=2)\n",
    "    names_string = concatenate_with_bar_delim(*names)\n",
    "    return(names_string)\n",
    "\n",
    "def clean_oryzabase_symbol_synonyms(string):\n",
    "    # Should be applied to the gene symbol synonym(s) column in the dataset.\n",
    "    # Returns a single string representing a bar delimited list of gene symbols.\n",
    "    string = string.replace(\"*\",\"\")\n",
    "    names = string.split(\",\")\n",
    "    names = [name.strip() for name in names]\n",
    "    names = [remove_enclosing_brackets(name) for name in names]\n",
    "    names_string = concatenate_with_bar_delim(*names)\n",
    "    return(names_string)"
   ]
  },
  {
   "cell_type": "markdown",
   "metadata": {},
   "source": [
    "### Part 2: Ontology Term Annotations\n",
    "Multiple columns within the dataset specify ontology term annotations that have been applied to the geen mentioned on that particular line. Ontology term annotations are separated into different columns based on which ontology the terms belong to, and both the term ID of each annotation and the accompanying label for that term and explicitly given. Columns for terms from the Gene Ontolgoy (GO), Plant Ontology (PO), and Plant Trait Ontology (TO) are all included. There is no information about what evidence codes these annotations are associated with in this dataset."
   ]
  },
  {
   "cell_type": "code",
   "execution_count": 9,
   "metadata": {},
   "outputs": [
    {
     "name": "stdout",
     "output_type": "stream",
     "text": [
      "                                       Gene Ontology\n",
      "0  GO:0000001 - mitochondrion inheritance, GO:000...\n",
      "1  GO:0000001 - mitochondrion inheritance, GO:000...\n",
      "2  GO:0007275 - multicellular organismal development\n",
      "3  GO:0007275 - multicellular organismal developm...\n",
      "4  GO:0007275 - multicellular organismal development\n",
      "                                      Plant Ontology\n",
      "0                               PO:0009066 - anther \n",
      "1                               PO:0009066 - anther \n",
      "2  PO:0009082 - spikelet floret , PO:0020048 - mi...\n",
      "3  PO:0009082 - spikelet floret , PO:0020048 - mi...\n",
      "4  PO:0009082 - spikelet floret , PO:0020048 - mi...\n",
      "                                      Trait Ontology\n",
      "0  TO:0000232 - cytoplasmic male sterility (sensu...\n",
      "1  TO:0000232 - cytoplasmic male sterility (sensu...\n",
      "2  TO:0000232 - cytoplasmic male sterility (sensu...\n",
      "3  TO:0000232 - cytoplasmic male sterility (sensu...\n",
      "4  TO:0000232 - cytoplasmic male sterility (sensu...\n"
     ]
    }
   ],
   "source": [
    "print(df[[\"Gene Ontology\"]].head(5))\n",
    "print(df[[\"Plant Ontology\"]].head(5))\n",
    "print(df[[\"Trait Ontology\"]].head(5))"
   ]
  },
  {
   "cell_type": "markdown",
   "metadata": {},
   "source": [
    "Both the term IDs and labels for each annotation are given. Multiple annotations from the same ontology for a given line are separated by commas. We want to parse out just the gene ontology IDs for the cleaned dataset so that they can be referenced later, all the other information is not needed. There is a function to the return a list of gene IDs present in a longer string of text that is in the preprocessing module."
   ]
  },
  {
   "cell_type": "markdown",
   "metadata": {},
   "source": [
    "### Part 3: Handling other text description and keyword information in this data\n",
    "This dataset does not contain any columns that consistly contain a natural language description of a phenotype associated with a given gene. But some text-based information is still present. The trait class column contains a value from a limited set of keyword descriptors for the trait a particular gene is associated with. The size of the vocabulary used is obtained here. Also see the specific description of this keyword vocabulary here (https://shigen.nig.ac.jp/rice/oryzabase/traitclass/). The explaination column also occasionally contains text information about a corresponding phenotype."
   ]
  },
  {
   "cell_type": "code",
   "execution_count": 10,
   "metadata": {},
   "outputs": [
    {
     "name": "stdout",
     "output_type": "stream",
     "text": [
      "  4121                      \n",
      "  3621   Biochemical character\n",
      "  2566   Other              \n",
      "   875   Tolerance and resistance - Stress tolerance\n",
      "   862   Biochemical character,  Tolerance and resistance - Stress tolerance\n",
      "   527   Tolerance and resistance - Disease resistance\n",
      "   293   Reproductive organ - Spikelet, flower, glume, awn\n",
      "   244   Biochemical character,  Tolerance and resistance - Disease resistance\n",
      "   222   Character as QTL - Yield and productivity\n",
      "   204   Tolerance and resistance - Stress tolerance,  Other\n"
     ]
    }
   ],
   "source": [
    "# Get a list sorted by number of occurences for each trait class.\n",
    "description_counts = df[\"Trait Class\"].value_counts().to_dict()\n",
    "sorted_tuples = sorted(description_counts.items(), key = lambda x: x[1], reverse=True)\n",
    "for t in sorted_tuples[0:10]:\n",
    "    print(\"{:6}  {:20}\".format(t[1],t[0][:70]))"
   ]
  },
  {
   "cell_type": "markdown",
   "metadata": {},
   "source": [
    "The most common value in the trait class column is whitespace or an empty string indicating missing data. Another very common value though is 'Other' which has 2,566 occurences out of the 17,674 total instances. This needs to be handled if using this information as text descriptions because this contains no semantics relevant to the phenotype (two phenotypes with trait classes of 'Other' should not be considered similar)."
   ]
  },
  {
   "cell_type": "code",
   "execution_count": 11,
   "metadata": {},
   "outputs": [
    {
     "name": "stdout",
     "output_type": "stream",
     "text": [
      "                                             Explanation\n",
      "12203                     F-box protein. LOC_Os02g19410.\n",
      "11498                                                   \n",
      "5095                                                    \n",
      "12025       LOC_Os10g05240. Os_F0350 in Hua et al. 2011.\n",
      "10124                                                   \n",
      "8168                                                    \n",
      "13626                                     LOC_Os09g18230\n",
      "3557                           LOC_Os03g29970. AB288040.\n",
      "3263                                                    \n",
      "16784  LOC_Os07g47300. Q0D3S3. TO:0006060: leaf chlor...\n",
      "12477  D29710 (corresponds to Os09g0482100, Os09g0482...\n",
      "7061                                                    \n",
      "6034        LOC_Os03g60650. Q84T94. AJ575237. EU368725. \n",
      "7038                                                    \n",
      "9898   13 kDa prolamin. Os05g0329200, LOC_Os05g26480 ...\n",
      "5900                                     LOC_Os04g55660.\n",
      "4465   Efflux transporter of phytosiderophore. LOC_Os...\n",
      "14382                      miRBASE accession: MI0019004.\n",
      "13947                                    LOC_Os03g32550.\n",
      "17383  miR1432 target gene. LOC_Os04g35590. TO:002010...\n",
      "14265  group A phosphofructokinase (PKF_A). LOC_Os01g...\n",
      "12676  AC091680: OSJNBa0034L04.40. AC074232: OSJNBb00...\n",
      "7829                                                    \n",
      "4731                                        Phytocyanin.\n",
      "777    Induced by chemical mutagen treatment. Embyro ...\n",
      "303    Inhibition of panicle development under low te...\n",
      "4407                                                    \n",
      "6484   homologous recombination (HR)-related gene. RI...\n",
      "16019                                    LOC_Os12g44180.\n",
      "13923                       LOC_Os06g32200. PR13 family.\n"
     ]
    }
   ],
   "source": [
    "print(df[[\"Explanation\"]].sample(30))"
   ]
  },
  {
   "cell_type": "markdown",
   "metadata": {},
   "source": [
    "The explanation column holds information potentially about the phenotype, but also sometimes contains redundant information about the gene names or identifiers and sometimes the ontology term annotations as well. Sometimes methods are mentioned as well. Some of this could be handled with parsing to remove the redundant information that already appears somewhere else in a particular column for this line, but this should be considered irregular text annotations or descriptions for the purposes of downstream analyses. The following cell contains a preliminary attempt at a function that cleans values in this column by removing some redundant information from other columns."
   ]
  },
  {
   "cell_type": "code",
   "execution_count": 12,
   "metadata": {},
   "outputs": [],
   "source": [
    "def clean_oryzabase_explainations(string):\n",
    "    # Should be applied to the explanation column in the dataset.\n",
    "    # Returns a version of the the value in that column without some redundant information.\n",
    "    ontology_ids = get_ontology_ids(string)\n",
    "    for ontology_id in ontology_ids:\n",
    "        string = string.replace(ontology_id,\"\")\n",
    "        string = remove_punctuation(string)\n",
    "    return(string)"
   ]
  },
  {
   "cell_type": "code",
   "execution_count": 13,
   "metadata": {},
   "outputs": [
    {
     "name": "stdout",
     "output_type": "stream",
     "text": [
      "  species                                         gene_names\n",
      "0     osa  CMS-54257|cms-54257|CYTOPLASMIC MALE STERILITY...\n",
      "1     osa  CMS-JP|CMS-AK|[cms-ak]([cms-jp])|cms-jp|cms-ak...\n",
      "2     osa  CMS-ARC|cms-ARC|cms-ARC] [mt|CYTOPLASMIC MALE ...\n",
      "3     osa  CMS-BO|cms-bo|CYTOPLASMIC MALE STERILITY BO|Ch...\n",
      "4     osa  CMS-CW|cms-CW|CYTOPLASMIC MALE STERILITY CW|Ch...\n",
      "5     osa  CMS-GAM|cms-GAM|CYTOPLASMIC MALE STERILITY GAM...\n",
      "6     osa  CMS-HL|cms-HL|CYTOPLASMIC MALE STERILITY HL|HL...\n",
      "7     osa  CMS-IR66707A|cms-IR66707A|CYTOPLASMIC MALE STE...\n",
      "8     osa  CMS-KALINGA-I|cms-Kalinga-I|CYTOPLASMIC MALE S...\n",
      "9     osa  CMS-KHIABORO|cms-Khiaboro|CYTOPLASMIC MALE STE...\n",
      "      species                                         gene_names\n",
      "3691      osa  Os12g0278800|LOC_Os12g18120.4, LOC_Os12g18120....\n",
      "5863      osa  Os01g0650900|LOC_Os01g46210.1|GELP22|OsGELP22|...\n",
      "16262     osa                      Os07g0118300|LOC_Os07g02710.1\n",
      "6552      osa  Os01g0637800|LOC_Os01g45090.1|OsMYB8|myb trans...\n",
      "13635     osa  Os09g0550600|LOC_Os09g37800.1|RLCK279|OsRLCK27...\n",
      "13445     osa  Os02g0106900|LOC_Os02g01730.1|RLCK58|OsRLCK58|...\n",
      "14657     osa  Os03g0307100|LOC_Os03g19410.1|OsPOP7|POP7|Prol...\n",
      "11581     osa  Os02g0105800|LOC_Os02g01550.2, LOC_Os02g01550....\n",
      "3805      osa  Os08g0112800|LOC_Os08g02080.2, LOC_Os08g02080....\n",
      "538       osa  AL7|al7(t)|alK7|al7|ALBINO 7|albino7|albino 7|...\n"
     ]
    }
   ],
   "source": [
    "# Restructuring and combining columns that have gene name information.\n",
    "df[\"CGSNL Gene Symbol\"] = df[\"CGSNL Gene Symbol\"].apply(clean_oryzabase_symbol)\n",
    "df[\"Gene symbol synonym(s)\"] = df[\"Gene symbol synonym(s)\"].apply(clean_oryzabase_symbol_synonyms)\n",
    "df[\"CGSNL Gene Name\"] = df[\"CGSNL Gene Name\"].apply(lambda x: x.replace(\"_\",\"\").strip())\n",
    "df[\"Gene name synonym(s)\"] = df[\"Gene name synonym(s)\"].apply(lambda x: other_delim_to_bar_delim(string=x, delim=\",\"))\n",
    "df[\"gene_names\"] = np.vectorize(concatenate_with_bar_delim)(df[\"RAP ID\"], df[\"MUS ID\"], df[\"CGSNL Gene Symbol\"], df[\"Gene symbol synonym(s)\"], df[\"CGSNL Gene Name\"], df[\"Gene name synonym(s)\"])\n",
    "\n",
    "# Restructuring and combining columns that have ontology term annotations.\n",
    "df[\"Gene Ontology\"] = df[\"Gene Ontology\"].apply(lambda x: concatenate_with_bar_delim(*get_ontology_ids(x))) \n",
    "df[\"Trait Ontology\"] = df[\"Trait Ontology\"].apply(lambda x: concatenate_with_bar_delim(*get_ontology_ids(x))) \n",
    "df[\"Plant Ontology\"] = df[\"Plant Ontology\"].apply(lambda x: concatenate_with_bar_delim(*get_ontology_ids(x))) \n",
    "df[\"term_ids\"] = np.vectorize(concatenate_with_bar_delim)(df[\"Gene Ontology\"], df[\"Trait Ontology\"], df[\"Plant Ontology\"])\n",
    "\n",
    "# Adding other expected columns and subsetting the dataset.\n",
    "df[\"species\"] = \"osa\"\n",
    "df[\"description\"] = df[\"Explanation\"].apply(clean_oryzabase_explainations)\n",
    "df[\"pmid\"] = \"\"\n",
    "df = df[[\"species\", \"gene_names\", \"description\", \"term_ids\"]]\n",
    "print(df[[\"species\",\"gene_names\"]].head(10))\n",
    "print(df[[\"species\",\"gene_names\"]].sample(10))"
   ]
  },
  {
   "cell_type": "code",
   "execution_count": 14,
   "metadata": {},
   "outputs": [],
   "source": [
    "# Outputting the dataset of descriptions to a csv file.\n",
    "path = os.path.join(OUTPUT_DIR,\"oryzabase_phenotype_descriptions_and_annotations.csv\")\n",
    "df.to_csv(path, index=False)"
   ]
  }
 ],
 "metadata": {
  "kernelspec": {
   "display_name": "Python 3",
   "language": "python",
   "name": "python3"
  },
  "language_info": {
   "codemirror_mode": {
    "name": "ipython",
    "version": 3
   },
   "file_extension": ".py",
   "mimetype": "text/x-python",
   "name": "python",
   "nbconvert_exporter": "python",
   "pygments_lexer": "ipython3",
   "version": "3.6.10"
  }
 },
 "nbformat": 4,
 "nbformat_minor": 2
}
